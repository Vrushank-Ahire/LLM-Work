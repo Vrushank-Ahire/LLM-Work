{
 "cells": [
  {
   "cell_type": "code",
   "execution_count": 1,
   "id": "0a91e7ed-ab8f-4f24-b5a8-5ff43591e665",
   "metadata": {},
   "outputs": [],
   "source": [
    "import groq"
   ]
  },
  {
   "cell_type": "code",
   "execution_count": 2,
   "id": "be8439ef-f2f5-4fd3-9c5f-4a09a1657c2e",
   "metadata": {},
   "outputs": [],
   "source": [
    "from groq import Groq"
   ]
  },
  {
   "cell_type": "code",
   "execution_count": 3,
   "id": "14c93dac-6c25-4b3d-9e44-938f4cfd5d6c",
   "metadata": {},
   "outputs": [],
   "source": [
    "client = Groq()"
   ]
  },
  {
   "cell_type": "code",
   "execution_count": 4,
   "id": "a51f4120-a37c-4305-ac38-370ca5c8667f",
   "metadata": {},
   "outputs": [],
   "source": [
    "import os"
   ]
  },
  {
   "cell_type": "code",
   "execution_count": 5,
   "id": "24ffc927-cf21-4ea8-8dcb-c15b2f746412",
   "metadata": {},
   "outputs": [],
   "source": [
    "# os.environ"
   ]
  },
  {
   "cell_type": "code",
   "execution_count": 6,
   "id": "540ae25b-7b60-489d-835d-fd17ff30af38",
   "metadata": {},
   "outputs": [],
   "source": [
    "response = client.chat.completions.create(\n",
    "    # The language model which will generate the completion.\n",
    "    model=\"llama3-8b-8192\",\n",
    "    messages=[\n",
    "        {\"role\": \"system\", \"content\": \"You are a helpful assistant.\"},\n",
    "        {\"role\": \"user\", \"content\": \"is it too late to join the course?\"}\n",
    "    ]\n",
    ")"
   ]
  },
  {
   "cell_type": "code",
   "execution_count": 7,
   "id": "fd2df777-ece0-448a-b3be-7cdcd390708d",
   "metadata": {},
   "outputs": [
    {
     "data": {
      "text/plain": [
       "\"I'd be happy to help you with that!\\n\\nCan you please provide more information about the course you're interested in joining? Such as the name of the course, the institution offering it, and the deadline date? Additionally, what's your current status with regards to the course (e.g., have you already applied, are you planning to apply, etc.)?\\n\\nWith this information, I can try to provide you with more tailored advice and guidance on whether it's too late to join the course or if there are still opportunities available.\""
      ]
     },
     "execution_count": 7,
     "metadata": {},
     "output_type": "execute_result"
    }
   ],
   "source": [
    "response.choices[0].message.content"
   ]
  }
 ],
 "metadata": {
  "kernelspec": {
   "display_name": "Python 3 (ipykernel)",
   "language": "python",
   "name": "python3"
  },
  "language_info": {
   "codemirror_mode": {
    "name": "ipython",
    "version": 3
   },
   "file_extension": ".py",
   "mimetype": "text/x-python",
   "name": "python",
   "nbconvert_exporter": "python",
   "pygments_lexer": "ipython3",
   "version": "3.10.13"
  }
 },
 "nbformat": 4,
 "nbformat_minor": 5
}
